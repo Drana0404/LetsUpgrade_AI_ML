{
 "cells": [
  {
   "cell_type": "markdown",
   "metadata": {},
   "source": [
    "# Conversion of fahrenheit to kelvin and celsius "
   ]
  },
  {
   "cell_type": "code",
   "execution_count": 1,
   "metadata": {},
   "outputs": [
    {
     "name": "stdout",
     "output_type": "stream",
     "text": [
      "Enter temp in fahrenheit -50\n",
      "Fahrenheit= -50 F Celsius= -45.55555555555556 C Kelvin= 227.59444444444446 K\n"
     ]
    }
   ],
   "source": [
    "f=int(input(\"Enter temp in fahrenheit \"))\n",
    "c=(f-32)*(5/9)\n",
    "k=(f+459.67)*(5/9)\n",
    "print(\"Fahrenheit=\",f,\"F Celsius=\",c,\"C Kelvin=\",k,\"K\")"
   ]
  },
  {
   "cell_type": "code",
   "execution_count": null,
   "metadata": {},
   "outputs": [],
   "source": []
  }
 ],
 "metadata": {
  "kernelspec": {
   "display_name": "Python 3",
   "language": "python",
   "name": "python3"
  },
  "language_info": {
   "codemirror_mode": {
    "name": "ipython",
    "version": 3
   },
   "file_extension": ".py",
   "mimetype": "text/x-python",
   "name": "python",
   "nbconvert_exporter": "python",
   "pygments_lexer": "ipython3",
   "version": "3.7.7"
  }
 },
 "nbformat": 4,
 "nbformat_minor": 4
}
