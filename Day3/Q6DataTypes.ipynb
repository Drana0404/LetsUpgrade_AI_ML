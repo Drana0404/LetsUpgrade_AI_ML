{
 "cells": [
  {
   "cell_type": "markdown",
   "metadata": {},
   "source": [
    "# Different data types "
   ]
  },
  {
   "cell_type": "code",
   "execution_count": 4,
   "metadata": {},
   "outputs": [
    {
     "name": "stdout",
     "output_type": "stream",
     "text": [
      "Type of a <class 'int'> \n",
      "Type of b= <class 'int'> \n",
      "Type of c= <class 'complex'> \n",
      "Type of d= <class 'float'> \n",
      "Type of e= <class 'str'>\n"
     ]
    }
   ],
   "source": [
    "a=10\n",
    "b=100000000000\n",
    "c=10+40j\n",
    "d=10.73874\n",
    "e=\"This is my day 3 assignment \"\n",
    "print(\"Type of a\",type(a),\"\\nType of b=\",type(b),\"\\nType of c=\",type(c),\"\\nType of d=\",type(d),\"\\nType of e=\",type(e))"
   ]
  },
  {
   "cell_type": "code",
   "execution_count": null,
   "metadata": {},
   "outputs": [],
   "source": []
  }
 ],
 "metadata": {
  "kernelspec": {
   "display_name": "Python 3",
   "language": "python",
   "name": "python3"
  },
  "language_info": {
   "codemirror_mode": {
    "name": "ipython",
    "version": 3
   },
   "file_extension": ".py",
   "mimetype": "text/x-python",
   "name": "python",
   "nbconvert_exporter": "python",
   "pygments_lexer": "ipython3",
   "version": "3.7.7"
  }
 },
 "nbformat": 4,
 "nbformat_minor": 4
}
