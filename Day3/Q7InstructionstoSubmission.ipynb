{
 "cells": [
  {
   "cell_type": "markdown",
   "metadata": {},
   "source": [
    "# Instruction on creating an GitHub Account and submitting the Link"
   ]
  },
  {
   "cell_type": "markdown",
   "metadata": {},
   "source": [
    "1.Go to GitHub and create an account.\n",
    "\n",
    "2.After creating and account create a repository.\n",
    "\n",
    "3.Name the repository as LetsUpgrade AI-ML. \n",
    "\n",
    "4.Write the description as Assignment. \n",
    "\n",
    "\n",
    "5.Let the repository be Public .\n",
    "\n",
    "6.Create a folder by clicking on create new file and after the name add/.\n",
    "\n",
    "7.Name the folder as the days asssinment you are submitting .\n",
    "\n",
    "8.Upload all the notebooks of that days assigment .\n",
    "\n",
    "9.Copy the URL and paste it into the Google submission form of the specific day ."
   ]
  },
  {
   "cell_type": "code",
   "execution_count": null,
   "metadata": {},
   "outputs": [],
   "source": []
  }
 ],
 "metadata": {
  "kernelspec": {
   "display_name": "Python 3",
   "language": "python",
   "name": "python3"
  },
  "language_info": {
   "codemirror_mode": {
    "name": "ipython",
    "version": 3
   },
   "file_extension": ".py",
   "mimetype": "text/x-python",
   "name": "python",
   "nbconvert_exporter": "python",
   "pygments_lexer": "ipython3",
   "version": "3.7.7"
  }
 },
 "nbformat": 4,
 "nbformat_minor": 4
}
