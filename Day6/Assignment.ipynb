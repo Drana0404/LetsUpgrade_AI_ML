{
 "cells": [
  {
   "cell_type": "markdown",
   "metadata": {},
   "source": [
    "# Q1 Get the company name "
   ]
  },
  {
   "cell_type": "code",
   "execution_count": 31,
   "metadata": {},
   "outputs": [
    {
     "name": "stdout",
     "output_type": "stream",
     "text": [
      "Enter the email idjohn@google.com\n",
      "Name of the company is  google\n"
     ]
    }
   ],
   "source": [
    "str=input(\"Enter the email id\")\n",
    "a=str.index(\"@\")\n",
    "b=str.index(\".\")\n",
    "str2=str[a+1:b]\n",
    "print(\"Name of the company is \",str2)"
   ]
  },
  {
   "cell_type": "markdown",
   "metadata": {},
   "source": [
    "# Q2 Sorting \n"
   ]
  },
  {
   "cell_type": "code",
   "execution_count": 32,
   "metadata": {},
   "outputs": [
    {
     "name": "stdout",
     "output_type": "stream",
     "text": [
      "The words separated by commas \n",
      "without,hello,bag,world\n",
      "The Sorted elements are \n",
      " ['bag', 'hello', 'without', 'world']\n"
     ]
    }
   ],
   "source": [
    "str1=input(\"The words separated by commas \\n\")\n",
    "\n",
    "str=str1.rsplit(\",\")\n",
    "print(\"The Sorted elements are \\n\",sorted(str))\n",
    "\n"
   ]
  },
  {
   "cell_type": "markdown",
   "metadata": {},
   "source": [
    "# Q3 set"
   ]
  },
  {
   "cell_type": "markdown",
   "metadata": {},
   "source": [
    "# Sets \n",
    "### A set is a collection which is unordered and unindexed. In Python sets are written with curly brackets.\n",
    "\n",
    "Sets are enclosed between curly brackets\n",
    "\n",
    "st={}\n",
    "\n",
    "Like Others set can contain any data type namely int flat string anything .\n",
    "\n",
    "st1={\"Rose\",\"Sunflower\",\"Lily\"}\n",
    "\n",
    "st2={1,2,3}\n",
    "\n",
    "st3={'a','b','c'}\n",
    "\n",
    "There are alot of funtions that can be used to perform task on sets .\n",
    "\n",
    "Set is also mutable Data Type \n"
   ]
  },
  {
   "cell_type": "code",
   "execution_count": 18,
   "metadata": {},
   "outputs": [
    {
     "name": "stdout",
     "output_type": "stream",
     "text": [
      "Sunflower\n",
      "Lily\n",
      "Rose\n"
     ]
    }
   ],
   "source": [
    "st1={\"Rose\",\"Sunflower\",\"Lily\"}\n",
    "\n",
    "st2={1,2,3}\n",
    "\n",
    "st3={'a','b','c'}\n",
    "for x in st1:\n",
    "  print(x)"
   ]
  },
  {
   "cell_type": "code",
   "execution_count": 19,
   "metadata": {},
   "outputs": [
    {
     "name": "stdout",
     "output_type": "stream",
     "text": [
      "True\n"
     ]
    }
   ],
   "source": [
    "print(1 in st2)"
   ]
  },
  {
   "cell_type": "code",
   "execution_count": 21,
   "metadata": {},
   "outputs": [
    {
     "data": {
      "text/plain": [
       "{1, 2, 3, 4}"
      ]
     },
     "execution_count": 21,
     "metadata": {},
     "output_type": "execute_result"
    }
   ],
   "source": [
    "st2.add(4)\n",
    "st2"
   ]
  },
  {
   "cell_type": "code",
   "execution_count": 22,
   "metadata": {},
   "outputs": [
    {
     "data": {
      "text/plain": [
       "{1, 2, 3, 4, 5, 6, 7}"
      ]
     },
     "execution_count": 22,
     "metadata": {},
     "output_type": "execute_result"
    }
   ],
   "source": [
    "st2.update([5,6,7])\n",
    "st2"
   ]
  },
  {
   "cell_type": "code",
   "execution_count": 24,
   "metadata": {},
   "outputs": [
    {
     "name": "stdout",
     "output_type": "stream",
     "text": [
      "3\n"
     ]
    }
   ],
   "source": [
    "print(len(st3))"
   ]
  },
  {
   "cell_type": "code",
   "execution_count": 26,
   "metadata": {},
   "outputs": [
    {
     "name": "stdout",
     "output_type": "stream",
     "text": [
      "{1, 'Lily', 2, 3, 4, 5, 6, 7, 'Sunflower', 'Rose'}\n"
     ]
    }
   ],
   "source": [
    "st1.update(st2)\n",
    "print(st1)"
   ]
  },
  {
   "cell_type": "code",
   "execution_count": 27,
   "metadata": {},
   "outputs": [
    {
     "name": "stdout",
     "output_type": "stream",
     "text": [
      "{'c', 'b', 'a'}\n"
     ]
    }
   ],
   "source": [
    "set3 = st1.union(st2)\n",
    "print(st3)"
   ]
  },
  {
   "cell_type": "code",
   "execution_count": 29,
   "metadata": {},
   "outputs": [
    {
     "name": "stdout",
     "output_type": "stream",
     "text": [
      "{1, 2, 3, 4, 5, 6, 7}\n"
     ]
    }
   ],
   "source": [
    "set3 = st1.intersection(st2)\n",
    "print(set3)"
   ]
  },
  {
   "cell_type": "markdown",
   "metadata": {},
   "source": [
    "# Q4 Finding missing number"
   ]
  },
  {
   "cell_type": "code",
   "execution_count": 39,
   "metadata": {},
   "outputs": [
    {
     "name": "stdout",
     "output_type": "stream",
     "text": [
      "Enter the number of Elemnet is the list 7\n",
      "Enter the element 1\n",
      "Enter the element 2\n",
      "Enter the element 4\n",
      "Enter the element 3\n",
      "Enter the element 6\n",
      "Enter the element 7\n",
      "Enter the element 8\n",
      "[1, 2, 3, 4, 6, 7, 8]\n",
      "Missing element is \t 5\n"
     ]
    }
   ],
   "source": [
    "def check():\n",
    "    lst=[]\n",
    "    n=int(input(\"Enter the number of Elemnet is the list \"))\n",
    "    for i in range(n):\n",
    "        a=int(input(\"Enter the element \"))\n",
    "        lst.append(a)\n",
    "    lst.sort()\n",
    "    print(lst)\n",
    "    a=len(lst)\n",
    "    for j in range(n-1):\n",
    "        if lst[j]+1==lst[j+1]:\n",
    "            continue\n",
    "        else:\n",
    "            print(\"Missing element is \\t\",lst[j]+1)\n",
    "   \n",
    "check()"
   ]
  },
  {
   "cell_type": "markdown",
   "metadata": {},
   "source": [
    "# Q5 Checking duplicates "
   ]
  },
  {
   "cell_type": "code",
   "execution_count": 40,
   "metadata": {},
   "outputs": [
    {
     "name": "stdout",
     "output_type": "stream",
     "text": [
      "Enter the number of Elemnet is the list 10\n",
      "Enter the element 12\n",
      "Enter the element 24\n",
      "Enter the element 35\n",
      "Enter the element 24\n",
      "Enter the element 88\n",
      "Enter the element 120\n",
      "Enter the element 155\n",
      "Enter the element 88\n",
      "Enter the element 120\n",
      "Enter the element 155\n",
      "[12, 24, 35, 24, 88, 120, 155, 88, 120, 155]\n",
      "[12, 24, 35, 88, 120, 155]\n"
     ]
    }
   ],
   "source": [
    "def check_duplicates():\n",
    "    lst=[]\n",
    "    res=[]\n",
    "    n=int(input(\"Enter the number of Elemnet is the list \"))\n",
    "    for i in range(n):\n",
    "        a=int(input(\"Enter the element \"))\n",
    "        lst.append(a)\n",
    "    print(lst)\n",
    "    for j in lst:\n",
    "        if j not in res:\n",
    "            res.append(j)\n",
    "    print(res)\n",
    "            \n",
    "    \n",
    "check_duplicates()"
   ]
  },
  {
   "cell_type": "markdown",
   "metadata": {},
   "source": []
  }
 ],
 "metadata": {
  "kernelspec": {
   "display_name": "Python 3",
   "language": "python",
   "name": "python3"
  },
  "language_info": {
   "codemirror_mode": {
    "name": "ipython",
    "version": 3
   },
   "file_extension": ".py",
   "mimetype": "text/x-python",
   "name": "python",
   "nbconvert_exporter": "python",
   "pygments_lexer": "ipython3",
   "version": "3.7.7"
  }
 },
 "nbformat": 4,
 "nbformat_minor": 4
}
